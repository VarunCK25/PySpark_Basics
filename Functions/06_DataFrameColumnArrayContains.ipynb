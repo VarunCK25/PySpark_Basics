{
 "cells": [
  {
   "cell_type": "markdown",
   "metadata": {},
   "source": [
    "### Initialize pyspark"
   ]
  },
  {
   "cell_type": "code",
   "execution_count": 1,
   "metadata": {},
   "outputs": [],
   "source": [
    "import findspark\n",
    "findspark.init()\n",
    "import pyspark"
   ]
  },
  {
   "cell_type": "markdown",
   "metadata": {},
   "source": [
    "### Initialize and create a spark session"
   ]
  },
  {
   "cell_type": "code",
   "execution_count": 2,
   "metadata": {},
   "outputs": [],
   "source": [
    "from pyspark.sql import SparkSession\n",
    "spark = SparkSession.builder.getOrCreate()"
   ]
  },
  {
   "cell_type": "markdown",
   "metadata": {},
   "source": [
    "### Data"
   ]
  },
  {
   "cell_type": "code",
   "execution_count": 9,
   "metadata": {},
   "outputs": [],
   "source": [
    "tagsDF = (spark.read\n",
    "              .options(multiLine=True, inferSchema=True)\n",
    "              .json(\"..\\\\Resources\\\\tags_sample.json\"))"
   ]
  },
  {
   "cell_type": "markdown",
   "metadata": {},
   "source": [
    "### Show"
   ]
  },
  {
   "cell_type": "code",
   "execution_count": 11,
   "metadata": {},
   "outputs": [
    {
     "name": "stdout",
     "output_type": "stream",
     "text": [
      "+----------------------------------------------------------------------------------------------------------------------------------------------+\n",
      "|stackoverflow                                                                                                                                 |\n",
      "+----------------------------------------------------------------------------------------------------------------------------------------------+\n",
      "|[[[Martin Odersky, [[1, Play Framework], [2, Akka Framework]], 1, scala]], [[James Gosling, [[1, Apache Tomcat], [2, Spring Boot]], 2, java]]]|\n",
      "+----------------------------------------------------------------------------------------------------------------------------------------------+\n",
      "\n"
     ]
    }
   ],
   "source": [
    "tagsDF.show(truncate=False)"
   ]
  },
  {
   "cell_type": "markdown",
   "metadata": {},
   "source": [
    "### Explode"
   ]
  },
  {
   "cell_type": "code",
   "execution_count": 31,
   "metadata": {},
   "outputs": [],
   "source": [
    "from pyspark.sql.functions import explode,col"
   ]
  },
  {
   "cell_type": "code",
   "execution_count": 34,
   "metadata": {},
   "outputs": [
    {
     "name": "stdout",
     "output_type": "stream",
     "text": [
      "root\n",
      " |-- stackoverflow: array (nullable = true)\n",
      " |    |-- element: struct (containsNull = true)\n",
      " |    |    |-- tag: struct (nullable = true)\n",
      " |    |    |    |-- author: string (nullable = true)\n",
      " |    |    |    |-- frameworks: array (nullable = true)\n",
      " |    |    |    |    |-- element: struct (containsNull = true)\n",
      " |    |    |    |    |    |-- id: long (nullable = true)\n",
      " |    |    |    |    |    |-- name: string (nullable = true)\n",
      " |    |    |    |-- id: long (nullable = true)\n",
      " |    |    |    |-- name: string (nullable = true)\n",
      "\n"
     ]
    }
   ],
   "source": [
    "tagsDF.printSchema()"
   ]
  },
  {
   "cell_type": "code",
   "execution_count": 45,
   "metadata": {},
   "outputs": [
    {
     "name": "stdout",
     "output_type": "stream",
     "text": [
      "+------------------------------------------------------------------------+\n",
      "|stackoverflow_tags                                                      |\n",
      "+------------------------------------------------------------------------+\n",
      "|[[Martin Odersky, [[1, Play Framework], [2, Akka Framework]], 1, scala]]|\n",
      "|[[James Gosling, [[1, Apache Tomcat], [2, Spring Boot]], 2, java]]      |\n",
      "+------------------------------------------------------------------------+\n",
      "\n"
     ]
    }
   ],
   "source": [
    "(tagsDF.select(explode(\"stackoverflow\").alias(\"stackoverflow_tags\"))).show(truncate=False)"
   ]
  },
  {
   "cell_type": "code",
   "execution_count": 50,
   "metadata": {},
   "outputs": [],
   "source": [
    "df = (tagsDF\n",
    "          .select(explode(\"stackoverflow\").alias(\"stackoverflow_tags\"))\n",
    "          .select(\n",
    "              col(\"stackoverflow_tags.tag.id\").alias(\"id\"),\n",
    "              col(\"stackoverflow_tags.tag.author\").alias(\"author\"),\n",
    "              col(\"stackoverflow_tags.tag.name\").alias(\"tag_name\"),\n",
    "              col(\"stackoverflow_tags.tag.frameworks.id\").alias(\"frameworks_id\"),\n",
    "              col(\"stackoverflow_tags.tag.frameworks.name\").alias(\"frameworks_name\")\n",
    "          )\n",
    "     )"
   ]
  },
  {
   "cell_type": "code",
   "execution_count": 51,
   "metadata": {},
   "outputs": [
    {
     "name": "stdout",
     "output_type": "stream",
     "text": [
      "+---+--------------+--------+-------------+--------------------------------+\n",
      "|id |author        |tag_name|frameworks_id|frameworks_name                 |\n",
      "+---+--------------+--------+-------------+--------------------------------+\n",
      "|1  |Martin Odersky|scala   |[1, 2]       |[Play Framework, Akka Framework]|\n",
      "|2  |James Gosling |java    |[1, 2]       |[Apache Tomcat, Spring Boot]    |\n",
      "+---+--------------+--------+-------------+--------------------------------+\n",
      "\n"
     ]
    }
   ],
   "source": [
    "df.show(truncate=False)"
   ]
  },
  {
   "cell_type": "markdown",
   "metadata": {},
   "source": [
    "### array_contains"
   ]
  },
  {
   "cell_type": "code",
   "execution_count": 52,
   "metadata": {},
   "outputs": [],
   "source": [
    "from pyspark.sql.functions import array_contains"
   ]
  },
  {
   "cell_type": "code",
   "execution_count": 53,
   "metadata": {},
   "outputs": [
    {
     "name": "stdout",
     "output_type": "stream",
     "text": [
      "+---+--------------+--------+-------------+--------------------------------+\n",
      "|id |author        |tag_name|frameworks_id|frameworks_name                 |\n",
      "+---+--------------+--------+-------------+--------------------------------+\n",
      "|1  |Martin Odersky|scala   |[1, 2]       |[Play Framework, Akka Framework]|\n",
      "+---+--------------+--------+-------------+--------------------------------+\n",
      "\n"
     ]
    }
   ],
   "source": [
    "(df.select(\"*\")\n",
    "  .where(array_contains(\"frameworks_name\", \"Play Framework\"))\n",
    "  .show(truncate=False))"
   ]
  },
  {
   "cell_type": "markdown",
   "metadata": {},
   "source": [
    "### Closing Spark Session"
   ]
  },
  {
   "cell_type": "code",
   "execution_count": 54,
   "metadata": {},
   "outputs": [],
   "source": [
    "spark.stop()"
   ]
  }
 ],
 "metadata": {
  "kernelspec": {
   "display_name": "Python 3",
   "language": "python",
   "name": "python3"
  },
  "language_info": {
   "codemirror_mode": {
    "name": "ipython",
    "version": 3
   },
   "file_extension": ".py",
   "mimetype": "text/x-python",
   "name": "python",
   "nbconvert_exporter": "python",
   "pygments_lexer": "ipython3",
   "version": "3.7.4"
  }
 },
 "nbformat": 4,
 "nbformat_minor": 2
}
