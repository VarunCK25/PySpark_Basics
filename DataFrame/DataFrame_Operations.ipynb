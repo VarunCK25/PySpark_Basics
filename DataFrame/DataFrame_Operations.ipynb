{
 "cells": [
  {
   "cell_type": "markdown",
   "metadata": {},
   "source": [
    "### Initialize pyspark"
   ]
  },
  {
   "cell_type": "code",
   "execution_count": 1,
   "metadata": {},
   "outputs": [],
   "source": [
    "import findspark\n",
    "findspark.init()\n",
    "import pyspark"
   ]
  },
  {
   "cell_type": "markdown",
   "metadata": {},
   "source": [
    "### Initialize and create a spark session"
   ]
  },
  {
   "cell_type": "code",
   "execution_count": 2,
   "metadata": {},
   "outputs": [],
   "source": [
    "from pyspark.sql import SparkSession\n",
    "spark = SparkSession.builder.getOrCreate()"
   ]
  },
  {
   "cell_type": "markdown",
   "metadata": {},
   "source": [
    "### Reading Data"
   ]
  },
  {
   "cell_type": "code",
   "execution_count": 3,
   "metadata": {},
   "outputs": [],
   "source": [
    "dfTags = (spark\n",
    "            .read\n",
    "            .options(header=True, inferSchema=True)\n",
    "            .csv(\"..\\\\Resources\\\\question_tags_10K.csv\")\n",
    "            .toDF(\"id\", \"tag\"))"
   ]
  },
  {
   "cell_type": "code",
   "execution_count": 4,
   "metadata": {},
   "outputs": [
    {
     "name": "stdout",
     "output_type": "stream",
     "text": [
      "+---+---------------+\n",
      "| id|            tag|\n",
      "+---+---------------+\n",
      "|  1|           data|\n",
      "|  4|             c#|\n",
      "|  4|       winforms|\n",
      "|  4|type-conversion|\n",
      "|  4|        decimal|\n",
      "+---+---------------+\n",
      "only showing top 5 rows\n",
      "\n"
     ]
    }
   ],
   "source": [
    "dfTags.show(5)"
   ]
  },
  {
   "cell_type": "code",
   "execution_count": 5,
   "metadata": {},
   "outputs": [],
   "source": [
    "dfQuestionsCSV = (spark\n",
    "                    .read\n",
    "                    .options(header=False, inferSchema=True, dateFormat=\"yyyy-MM-dd HH:mm:ss\")\n",
    "                    .csv(\"..\\\\resources\\\\questions_10K.csv\")\n",
    "                    .toDF(\"id\", \"creation_date\", \"closed_date\", \"deletion_date\", \"score\", \"owner_userid\", \"answer_count\"))"
   ]
  },
  {
   "cell_type": "code",
   "execution_count": 6,
   "metadata": {},
   "outputs": [
    {
     "name": "stdout",
     "output_type": "stream",
     "text": [
      "+---+--------------------+--------------------+--------------------+-----+------------+------------+\n",
      "| id|       creation_date|         closed_date|       deletion_date|score|owner_userid|answer_count|\n",
      "+---+--------------------+--------------------+--------------------+-----+------------+------------+\n",
      "| Id|        CreationDate|          ClosedDate|        DeletionDate|Score| OwnerUserId| AnswerCount|\n",
      "|  1|2008-07-31T21:26:37Z|                  NA|2011-03-28T00:53:47Z|    1|          NA|           0|\n",
      "|  4|2008-07-31T21:42:52Z|                  NA|                  NA|  472|           8|          13|\n",
      "|  6|2008-07-31T22:08:08Z|                  NA|                  NA|  210|           9|           5|\n",
      "|  8|2008-07-31T23:33:19Z|2013-06-03T04:00:25Z|2015-02-11T08:26:40Z|   42|          NA|           8|\n",
      "+---+--------------------+--------------------+--------------------+-----+------------+------------+\n",
      "only showing top 5 rows\n",
      "\n"
     ]
    }
   ],
   "source": [
    "dfQuestionsCSV.show(5)"
   ]
  },
  {
   "cell_type": "code",
   "execution_count": 8,
   "metadata": {},
   "outputs": [],
   "source": [
    "dfQuestions = (dfQuestionsCSV\n",
    "                .filter(\"score > 400 and score < 410\")\n",
    "                .join(dfTags, \"id\")\n",
    "                .select(\"owner_userid\", \"tag\", \"creation_date\", \"score\"))"
   ]
  },
  {
   "cell_type": "code",
   "execution_count": 9,
   "metadata": {
    "scrolled": false
   },
   "outputs": [
    {
     "name": "stdout",
     "output_type": "stream",
     "text": [
      "+------------+---------+--------------------+-----+\n",
      "|owner_userid|      tag|       creation_date|score|\n",
      "+------------+---------+--------------------+-----+\n",
      "|         131|   xdebug|2008-08-03T23:18:21Z|  405|\n",
      "|         131| phpstorm|2008-08-03T23:18:21Z|  405|\n",
      "|         131|debugging|2008-08-03T23:18:21Z|  405|\n",
      "|         131|  eclipse|2008-08-03T23:18:21Z|  405|\n",
      "|         131|      php|2008-08-03T23:18:21Z|  405|\n",
      "+------------+---------+--------------------+-----+\n",
      "only showing top 5 rows\n",
      "\n"
     ]
    }
   ],
   "source": [
    "dfQuestions.show(5)"
   ]
  },
  {
   "cell_type": "code",
   "execution_count": 23,
   "metadata": {},
   "outputs": [],
   "source": [
    "dfTagsOfTag = dfTags.select(\"id\",\"tag\")"
   ]
  },
  {
   "cell_type": "code",
   "execution_count": 28,
   "metadata": {},
   "outputs": [
    {
     "name": "stdout",
     "output_type": "stream",
     "text": [
      "id = 1, tag=data\n",
      "id = 4, tag=c#\n",
      "id = 4, tag=winforms\n",
      "id = 4, tag=type-conversion\n",
      "id = 4, tag=decimal\n"
     ]
    }
   ],
   "source": [
    "for tag in dfTagsOfTag.take(5):\n",
    "    print(\"id = {}, tag={}\".format(tag['id'],tag['tag']))"
   ]
  },
  {
   "cell_type": "markdown",
   "metadata": {},
   "source": [
    "### Create DataFrame from collection"
   ]
  },
  {
   "cell_type": "code",
   "execution_count": 30,
   "metadata": {},
   "outputs": [],
   "source": [
    "seqTags = [(1,\"so_java\"), (1,\"so_jsp\"), (2,\"so_golang\"), (3,\"so_scala\"), (3,\"so_akka\")]"
   ]
  },
  {
   "cell_type": "code",
   "execution_count": 32,
   "metadata": {},
   "outputs": [],
   "source": [
    "dfMoreTags = spark.createDataFrame(seqTags).toDF(\"id\", \"tag\")"
   ]
  },
  {
   "cell_type": "code",
   "execution_count": 33,
   "metadata": {},
   "outputs": [
    {
     "name": "stdout",
     "output_type": "stream",
     "text": [
      "+---+---------+\n",
      "| id|      tag|\n",
      "+---+---------+\n",
      "|  1|  so_java|\n",
      "|  1|   so_jsp|\n",
      "|  2|so_golang|\n",
      "|  3| so_scala|\n",
      "|  3|  so_akka|\n",
      "+---+---------+\n",
      "\n"
     ]
    }
   ],
   "source": [
    "dfMoreTags.show()"
   ]
  },
  {
   "cell_type": "markdown",
   "metadata": {},
   "source": [
    "### DataFrame Union"
   ]
  },
  {
   "cell_type": "code",
   "execution_count": 34,
   "metadata": {},
   "outputs": [
    {
     "name": "stdout",
     "output_type": "stream",
     "text": [
      "+---+----+\n",
      "| id| tag|\n",
      "+---+----+\n",
      "|  1|data|\n",
      "|  4|  c#|\n",
      "+---+----+\n",
      "only showing top 2 rows\n",
      "\n"
     ]
    }
   ],
   "source": [
    "dfTags.show(2)"
   ]
  },
  {
   "cell_type": "code",
   "execution_count": 35,
   "metadata": {},
   "outputs": [
    {
     "name": "stdout",
     "output_type": "stream",
     "text": [
      "+---+-------+\n",
      "| id|    tag|\n",
      "+---+-------+\n",
      "|  1|so_java|\n",
      "|  1| so_jsp|\n",
      "+---+-------+\n",
      "only showing top 2 rows\n",
      "\n"
     ]
    }
   ],
   "source": [
    "dfMoreTags.show(2)"
   ]
  },
  {
   "cell_type": "code",
   "execution_count": 36,
   "metadata": {},
   "outputs": [],
   "source": [
    "dfUnionOfTags = dfTags.union(dfMoreTags).filter(\"id in (1,3)\")"
   ]
  },
  {
   "cell_type": "markdown",
   "metadata": {},
   "source": [
    "### DataFrame Intersection"
   ]
  },
  {
   "cell_type": "code",
   "execution_count": 37,
   "metadata": {},
   "outputs": [],
   "source": [
    "dfIntersectionTags = dfMoreTags.intersect(dfUnionOfTags)"
   ]
  },
  {
   "cell_type": "code",
   "execution_count": 38,
   "metadata": {},
   "outputs": [
    {
     "name": "stdout",
     "output_type": "stream",
     "text": [
      "+---+--------+\n",
      "| id|     tag|\n",
      "+---+--------+\n",
      "|  1|  so_jsp|\n",
      "|  3|so_scala|\n",
      "|  3| so_akka|\n",
      "|  1| so_java|\n",
      "+---+--------+\n",
      "\n"
     ]
    }
   ],
   "source": [
    "dfIntersectionTags.show(5)"
   ]
  },
  {
   "cell_type": "markdown",
   "metadata": {},
   "source": [
    "### Append column to DataFrame using withColumn()"
   ]
  },
  {
   "cell_type": "code",
   "execution_count": 39,
   "metadata": {},
   "outputs": [],
   "source": [
    "from pyspark.sql.functions import split"
   ]
  },
  {
   "cell_type": "code",
   "execution_count": 53,
   "metadata": {},
   "outputs": [],
   "source": [
    "dfSplitColumn = (dfMoreTags.withColumn(\"tmp\", split(\"tag\", \"_\"))\n",
    "                              .select(\"id\",\"tag\",col(\"tmp\")[0].alias(\"so_prefix\"),col(\"tmp\")[1].alias(\"so_tag\"))\n",
    "                              .drop(\"tmp\"))"
   ]
  },
  {
   "cell_type": "code",
   "execution_count": 54,
   "metadata": {},
   "outputs": [
    {
     "name": "stdout",
     "output_type": "stream",
     "text": [
      "+---+---------+---------+------+\n",
      "| id|      tag|so_prefix|so_tag|\n",
      "+---+---------+---------+------+\n",
      "|  1|  so_java|       so|  java|\n",
      "|  1|   so_jsp|       so|   jsp|\n",
      "|  2|so_golang|       so|golang|\n",
      "|  3| so_scala|       so| scala|\n",
      "|  3|  so_akka|       so|  akka|\n",
      "+---+---------+---------+------+\n",
      "\n"
     ]
    }
   ],
   "source": [
    "dfSplitColumn.show(5)"
   ]
  },
  {
   "cell_type": "markdown",
   "metadata": {},
   "source": [
    "### Closing Spark Session"
   ]
  },
  {
   "cell_type": "code",
   "execution_count": 55,
   "metadata": {},
   "outputs": [],
   "source": [
    "spark.stop()"
   ]
  }
 ],
 "metadata": {
  "kernelspec": {
   "display_name": "Python 3",
   "language": "python",
   "name": "python3"
  },
  "language_info": {
   "codemirror_mode": {
    "name": "ipython",
    "version": 3
   },
   "file_extension": ".py",
   "mimetype": "text/x-python",
   "name": "python",
   "nbconvert_exporter": "python",
   "pygments_lexer": "ipython3",
   "version": "3.7.4"
  }
 },
 "nbformat": 4,
 "nbformat_minor": 2
}
